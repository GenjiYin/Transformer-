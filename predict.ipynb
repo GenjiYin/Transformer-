{
 "cells": [
  {
   "cell_type": "code",
   "execution_count": 1,
   "metadata": {},
   "outputs": [],
   "source": [
    "import numpy as np\n",
    "import tensorflow as tf\n",
    "from transformer import Encoding, Decoding\n",
    "from tensorflow.keras import layers, optimizers"
   ]
  },
  {
   "cell_type": "code",
   "execution_count": 2,
   "metadata": {},
   "outputs": [],
   "source": [
    "# 数据模拟(一维数据)\n",
    "\n",
    "x = np.arange(0, 1000, 0.5)\n",
    "y = np.cos(x) + np.sin(x)"
   ]
  },
  {
   "cell_type": "code",
   "execution_count": 3,
   "metadata": {},
   "outputs": [],
   "source": [
    "# 数据预处理\n",
    "\n",
    "class create_data(object):\n",
    "    def __init__(self, data, split_percentage, input_length, output_length):\n",
    "        \"\"\"\n",
    "        :params data: 传入一维数据\n",
    "        :params split_percentage: 数据集切割百分比\n",
    "        :params input_length: 传入编码层的长度\n",
    "        :params output_length: 传入解码层的长度(强制教学所需长度、预测长度)\n",
    "        \"\"\"\n",
    "        train = data[:int(split_percentage*len(data))]\n",
    "        test = data[int(split_percentage*len(data)):]\n",
    "        self.xtrain ,self.ytrain, self.train_label = self.structurize(train, input_length, output_length)\n",
    "        self.xtest ,self.ytest, self.test_label = self.structurize(test, input_length, output_length)\n",
    "\n",
    "    \n",
    "    def structurize(self, data, input_length, output_length):\n",
    "        \"\"\" \n",
    "        :params data: 传入数组\n",
    "        :params input_length: 传入编码层的长度\n",
    "        :params output_length: 传入解码层的长度(强制教学所需长度、预测长度)\n",
    "        :return: 返回两个二维数组\n",
    "        \"\"\"\n",
    "        x = []\n",
    "        y = []\n",
    "        label = []\n",
    "        for i in range(len(data)-input_length-output_length):\n",
    "            x.append(list(data[i:i+input_length]))\n",
    "            y.append(list(data[i+input_length-1: i+input_length+output_length-1]))\n",
    "            label.append(list(data[i+input_length: i+input_length+output_length]))\n",
    "        \n",
    "        x = np.array(x)\n",
    "        x = np.reshape(x, (-1, input_length, 1))\n",
    "        y = np.array(y)\n",
    "        y = np.reshape(y, (-1, output_length, 1))\n",
    "        label = np.array(label)\n",
    "        label = np.reshape(label, (-1, output_length, 1))\n",
    "        return x, y, label"
   ]
  },
  {
   "cell_type": "code",
   "execution_count": 4,
   "metadata": {},
   "outputs": [],
   "source": [
    "data = create_data(y, 0.8, 200, 10)\n",
    "xtrain, ytrain, train_label = data.xtrain, data.ytrain, data.train_label\n",
    "xtest, ytest, test_label = data.xtest, data.ytest, data.test_label"
   ]
  },
  {
   "cell_type": "code",
   "execution_count": 5,
   "metadata": {},
   "outputs": [],
   "source": [
    "# 实例化模型\n",
    "\n",
    "encoding = Encoding(units=64, heads=1, length=200)\n",
    "decoding = Decoding(units=64, heads=1, length=10)\n",
    "linear = layers.Dense(1)\n",
    "\n",
    "# 初始化优化器\n",
    "optimizer = optimizers.Adam(1e-3)"
   ]
  },
  {
   "cell_type": "code",
   "execution_count": 6,
   "metadata": {},
   "outputs": [
    {
     "name": "stdout",
     "output_type": "stream",
     "text": [
      "train_loss=2.6714315  test_loss=0.79101795\n",
      "train_loss=0.79331064  test_loss=0.99856305\n",
      "train_loss=1.0019611  test_loss=0.8770739\n",
      "train_loss=0.88006026  test_loss=0.49147126\n",
      "train_loss=0.49366835  test_loss=0.28438103\n",
      "train_loss=0.28548172  test_loss=0.28959343\n",
      "train_loss=0.2896373  test_loss=0.31237012\n",
      "train_loss=0.3117403  test_loss=0.26136684\n",
      "train_loss=0.26047343  test_loss=0.19314356\n",
      "train_loss=0.19228885  test_loss=0.17483851\n",
      "train_loss=0.17427532  test_loss=0.19951287\n",
      "train_loss=0.19928078  test_loss=0.21273232\n",
      "train_loss=0.21271373  test_loss=0.1847822\n",
      "train_loss=0.18464148  test_loss=0.13443862\n",
      "train_loss=0.13398914  test_loss=0.09982518\n",
      "train_loss=0.09891496  test_loss=0.09869645\n",
      "train_loss=0.0975148  test_loss=0.11541613\n",
      "train_loss=0.11420763  test_loss=0.12141839\n",
      "train_loss=0.12034356  test_loss=0.10469362\n",
      "train_loss=0.10377271  test_loss=0.076441966\n",
      "train_loss=0.07573275  test_loss=0.05633611\n",
      "train_loss=0.055744838  test_loss=0.054123405\n",
      "train_loss=0.053630434  test_loss=0.06340502\n",
      "train_loss=0.0630139  test_loss=0.07004554\n",
      "train_loss=0.0696653  test_loss=0.06548496\n",
      "train_loss=0.06510217  test_loss=0.053096186\n",
      "train_loss=0.052670583  test_loss=0.04221716\n",
      "train_loss=0.041741688  test_loss=0.039342754\n",
      "train_loss=0.038821403  test_loss=0.04268818\n",
      "train_loss=0.042155184  test_loss=0.04533086\n",
      "train_loss=0.04484608  test_loss=0.042449236\n",
      "train_loss=0.042052947  test_loss=0.03523313\n",
      "train_loss=0.034970507  test_loss=0.02872392\n",
      "train_loss=0.028617676  test_loss=0.02651847\n",
      "train_loss=0.026569864  test_loss=0.027883045\n",
      "train_loss=0.02804513  test_loss=0.029164596\n",
      "train_loss=0.02937773  test_loss=0.027807381\n",
      "train_loss=0.028001066  test_loss=0.024398254\n",
      "train_loss=0.024520952  test_loss=0.021398773\n",
      "train_loss=0.021437382  test_loss=0.020370035\n",
      "train_loss=0.020339118  test_loss=0.020612305\n",
      "train_loss=0.020529935  test_loss=0.020340709\n",
      "train_loss=0.020220464  test_loss=0.018706603\n",
      "train_loss=0.018586677  test_loss=0.016582808\n",
      "train_loss=0.016475648  test_loss=0.015316255\n",
      "train_loss=0.015208131  test_loss=0.015090537\n",
      "train_loss=0.015014269  test_loss=0.014941573\n",
      "train_loss=0.014889619  test_loss=0.013975284\n",
      "train_loss=0.01394458  test_loss=0.012394172\n",
      "train_loss=0.012378637  test_loss=0.011195074\n",
      "train_loss=0.01118071  test_loss=0.01092299\n",
      "train_loss=0.010900868  test_loss=0.011093439\n",
      "train_loss=0.011058487  test_loss=0.010810596\n",
      "train_loss=0.010751342  test_loss=0.00976419\n",
      "train_loss=0.009689355  test_loss=0.008493829\n",
      "train_loss=0.008429138  test_loss=0.0077677155\n",
      "train_loss=0.00769937  test_loss=0.0076743136\n",
      "train_loss=0.0076063196  test_loss=0.007678915\n",
      "train_loss=0.007616649  test_loss=0.0072987676\n",
      "train_loss=0.007237985  test_loss=0.006587935\n",
      "train_loss=0.0065253093  test_loss=0.0059774257\n",
      "train_loss=0.0059120837  test_loss=0.00569513\n",
      "train_loss=0.005629579  test_loss=0.0055598286\n",
      "train_loss=0.005496488  test_loss=0.005286884\n",
      "train_loss=0.0052285865  test_loss=0.0048449966\n",
      "train_loss=0.0047970493  test_loss=0.004435533\n",
      "train_loss=0.0044035763  test_loss=0.004182943\n",
      "train_loss=0.0041638208  test_loss=0.004001043\n",
      "train_loss=0.0039873146  test_loss=0.0037567392\n",
      "train_loss=0.0037427067  test_loss=0.0034696585\n",
      "train_loss=0.003450824  test_loss=0.0032635576\n",
      "train_loss=0.0032379234  test_loss=0.003159629\n",
      "train_loss=0.0031270892  test_loss=0.0030445757\n",
      "train_loss=0.0030073624  test_loss=0.0028397138\n",
      "train_loss=0.002800355  test_loss=0.002612011\n",
      "train_loss=0.0025727337  test_loss=0.0024685133\n",
      "train_loss=0.0024311456  test_loss=0.0024010679\n",
      "train_loss=0.0023661999  test_loss=0.0023059677\n",
      "train_loss=0.002273064  test_loss=0.0021403057\n",
      "train_loss=0.0021078596  test_loss=0.0019771194\n",
      "train_loss=0.0019436326  test_loss=0.001890642\n",
      "train_loss=0.0018555636  test_loss=0.0018529254\n",
      "train_loss=0.0018172454  test_loss=0.0017863903\n",
      "train_loss=0.0017517653  test_loss=0.0016777139\n",
      "train_loss=0.0016455934  test_loss=0.0015824714\n",
      "train_loss=0.0015533252  test_loss=0.001533451\n",
      "train_loss=0.0015068339  test_loss=0.0015000117\n",
      "train_loss=0.0014752771  test_loss=0.0014453348\n",
      "train_loss=0.0014217225  test_loss=0.0013760915\n",
      "train_loss=0.0013534409  test_loss=0.0013180461\n",
      "train_loss=0.0012967907  test_loss=0.0012739234\n",
      "train_loss=0.0012547311  test_loss=0.0012278705\n",
      "train_loss=0.0012116561  test_loss=0.0011761525\n",
      "train_loss=0.0011636664  test_loss=0.0011287312\n",
      "train_loss=0.00112003  test_loss=0.0010888806\n",
      "train_loss=0.0010834421  test_loss=0.0010500264\n",
      "train_loss=0.0010468723  test_loss=0.0010108451\n",
      "train_loss=0.0010091449  test_loss=0.000977066\n",
      "train_loss=0.00097642804  test_loss=0.00094894366\n",
      "train_loss=0.00094933994  test_loss=0.00091884914\n"
     ]
    }
   ],
   "source": [
    "for _ in range(100):\n",
    "    with tf.GradientTape() as tape:\n",
    "        ec = encoding(xtrain)\n",
    "        out = decoding(ec, ytrain)\n",
    "        out = linear(out)\n",
    "        loss = tf.reduce_mean((train_label-out)**2)\n",
    "    grads = tape.gradient(loss, [*encoding.trainable_variables, *decoding.trainable_variables, *linear.trainable_variables])\n",
    "    optimizer.apply_gradients(zip(grads, [*encoding.trainable_variables, *decoding.trainable_variables, *linear.trainable_variables]))\n",
    "    ec_ = encoding(xtest)\n",
    "    out_ = decoding(ec_, ytest)\n",
    "    out_ = linear(out_)\n",
    "    loss_ = tf.reduce_mean((test_label-out_)**2)\n",
    "    print('train_loss='+str(loss.numpy())+ '  '+'test_loss='+str(loss_.numpy()))"
   ]
  },
  {
   "cell_type": "code",
   "execution_count": 7,
   "metadata": {},
   "outputs": [],
   "source": [
    "# 测试集绘图\n",
    "\n",
    "import matplotlib.pyplot as plt\n",
    "\n",
    "encod = encoding(xtest)\n",
    "out = decoding(encod, ytest)\n",
    "out = linear(out)"
   ]
  },
  {
   "cell_type": "code",
   "execution_count": 8,
   "metadata": {},
   "outputs": [
    {
     "data": {
      "image/png": "[encoded data removed]",
      "text/plain": [
       "<Figure size 1080x576 with 1 Axes>"
      ]
     },
     "metadata": {
      "needs_background": "light"
     },
     "output_type": "display_data"
    }
   ],
   "source": [
    "fig = plt.figure(figsize=(15, 8))\n",
    "pre = np.reshape(out[-2].numpy(), (1, -1))[0]\n",
    "true = np.reshape(test_label[-2], (1, -1))[0]\n",
    "plt.plot(pre, color='red', linestyle='--', label='predict')\n",
    "plt.plot(true, color='blue', linestyle='--', label='True')\n",
    "plt.legend(loc='best')\n",
    "plt.show()"
   ]
  },
  {
   "cell_type": "markdown",
   "metadata": {},
   "source": [
    "### 预测\n",
    "### $输入(编码数据:A_1, A_2, A_3, A_4,..,A_n)$ + $(标签数据: A_n, B_1, B_2,...,B_m)$ -> (预测数据: $\\hat{A}_{n+1},...,B$) 其中B所有标签为任意一个实数， 使用改框架时必须要用任意实数去填满后面的标签数据, 所以在预测的时候只需取第一个预测数据即可, 在将预测数据塞入输出端:\n",
    "### $$输入(A_2, A_3, A_4,..,A_n, \\hat{A}_{n+1}) + (标签: \\hat{A}_{n+1}, B_1....B_m) -> (预测: \\hat{A}_{n+2},...,B)$$"
   ]
  },
  {
   "cell_type": "code",
   "execution_count": 9,
   "metadata": {},
   "outputs": [],
   "source": [
    "def predict(data):\n",
    "    \"\"\"\n",
    "    :params data: 传入三维数据\n",
    "    \"\"\"\n",
    "    A = np.reshape(data, (1, -1))[0][-1]\n",
    "    s = np.random.randn(9)\n",
    "    A = np.array([A])\n",
    "    label = np.concatenate([A, s])\n",
    "    label = np.reshape(label, (1, -1, 1))\n",
    "    out = encoding(data)\n",
    "    out = decoding(out, label)\n",
    "    out = linear(out)\n",
    "    pre = tf.reshape(out, (1, -1))[0].numpy()[0]\n",
    "    return pre"
   ]
  },
  {
   "cell_type": "code",
   "execution_count": 10,
   "metadata": {},
   "outputs": [
    {
     "data": {
      "text/plain": [
       "0.77812105"
      ]
     },
     "execution_count": 10,
     "metadata": {},
     "output_type": "execute_result"
    }
   ],
   "source": [
    "df = np.reshape(xtest[-1], (1, -1, 1))\n",
    "predict(df)"
   ]
  },
  {
   "cell_type": "code",
   "execution_count": 11,
   "metadata": {},
   "outputs": [],
   "source": [
    "class prediction(object):\n",
    "    def __init__(self, data):\n",
    "        self.data = data\n",
    "        self.encoding = encoding\n",
    "        self.decoding = decoding\n",
    "        self.linear = linear\n",
    "    \n",
    "    def predict(self, data):\n",
    "        \"\"\"\n",
    "        :params data: 传入三维数据\n",
    "        \"\"\"\n",
    "        A = np.reshape(data, (1, -1))[0][-1]\n",
    "        s = np.random.randn(9)\n",
    "        A = np.array([A])\n",
    "        label = np.concatenate([A, s])\n",
    "        label = np.reshape(label, (1, -1, 1))\n",
    "        out = encoding(data)\n",
    "        out = decoding(out, label)\n",
    "        out = linear(out)\n",
    "        pre = tf.reshape(out, (1, -1))[0].numpy()[0]\n",
    "        return pre\n",
    "    \n",
    "    def call(self, num):\n",
    "        \"\"\"\n",
    "        :params num: 预测次数(最多十次)\n",
    "        \"\"\"\n",
    "        result = []\n",
    "        data = self.data\n",
    "        for _ in range(num):\n",
    "            out = self.predict(data)\n",
    "            result.append(out)\n",
    "            data = data[:, 1:, :]\n",
    "            out = np.array([[[out]]])\n",
    "            data = np.concatenate([data, out], axis=1)\n",
    "        return result\n",
    "            "
   ]
  },
  {
   "cell_type": "code",
   "execution_count": 12,
   "metadata": {},
   "outputs": [
    {
     "data": {
      "image/png": "[encoded data removed]",
      "text/plain": [
       "<Figure size 1080x576 with 1 Axes>"
      ]
     },
     "metadata": {
      "needs_background": "light"
     },
     "output_type": "display_data"
    }
   ],
   "source": [
    "k = prediction(df)\n",
    "p = k.call(10)\n",
    "fig = plt.figure(figsize=(15, 8))\n",
    "plt.plot(p, linestyle='--')\n",
    "plt.show()"
   ]
  },
  {
   "cell_type": "code",
   "execution_count": null,
   "metadata": {},
   "outputs": [],
   "source": []
  }
 ],
 "metadata": {
  "interpreter": {
   "hash": "f23faf4bfe871c203c8bec80520af5927fc7cb1ae3bd834ddf554ee587ad1c05"
  },
  "kernelspec": {
   "display_name": "Python 3.8.5 64-bit",
   "language": "python",
   "name": "python3"
  },
  "language_info": {
   "codemirror_mode": {
    "name": "ipython",
    "version": 3
   },
   "file_extension": ".py",
   "mimetype": "text/x-python",
   "name": "python",
   "nbconvert_exporter": "python",
   "pygments_lexer": "ipython3",
   "version": "3.8.5"
  },
  "orig_nbformat": 4
 },
 "nbformat": 4,
 "nbformat_minor": 2
}
